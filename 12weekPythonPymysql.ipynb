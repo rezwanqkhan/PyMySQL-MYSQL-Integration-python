{
  "nbformat": 4,
  "nbformat_minor": 0,
  "metadata": {
    "colab": {
      "provenance": [],
      "authorship_tag": "ABX9TyM+NaR+OJ27ca8sfC5qjVko",
      "include_colab_link": true
    },
    "kernelspec": {
      "name": "python3",
      "display_name": "Python 3"
    },
    "language_info": {
      "name": "python"
    }
  },
  "cells": [
    {
      "cell_type": "markdown",
      "metadata": {
        "id": "view-in-github",
        "colab_type": "text"
      },
      "source": [
        "<a href=\"https://colab.research.google.com/github/rezwanqkhan/PyMySQL-MYSQL-Integration-python/blob/main/12weekPythonPymysql.ipynb\" target=\"_parent\"><img src=\"https://colab.research.google.com/assets/colab-badge.svg\" alt=\"Open In Colab\"/></a>"
      ]
    },
    {
      "cell_type": "code",
      "execution_count": null,
      "metadata": {
        "colab": {
          "base_uri": "https://localhost:8080/"
        },
        "id": "pdL5EBwk16Ri",
        "outputId": "50287661-374b-489e-d43a-978d84aabccd"
      },
      "outputs": [
        {
          "output_type": "stream",
          "name": "stdout",
          "text": [
            "Collecting pymysql\n",
            "  Downloading PyMySQL-1.1.0-py3-none-any.whl (44 kB)\n",
            "\u001b[?25l     \u001b[90m━━━━━━━━━━━━━━━━━━━━━━━━━━━━━━━━━━━━━━━━\u001b[0m \u001b[32m0.0/44.8 kB\u001b[0m \u001b[31m?\u001b[0m eta \u001b[36m-:--:--\u001b[0m\r\u001b[2K     \u001b[90m━━━━━━━━━━━━━━━━━━━━━━━━━━━━━━━━━━━━━━━━\u001b[0m \u001b[32m44.8/44.8 kB\u001b[0m \u001b[31m1.8 MB/s\u001b[0m eta \u001b[36m0:00:00\u001b[0m\n",
            "\u001b[?25hInstalling collected packages: pymysql\n",
            "Successfully installed pymysql-1.1.0\n"
          ]
        }
      ],
      "source": [
        "# For using PyMySQL, you need to install it in your environment\n",
        "!pip install pymysql\n"
      ]
    },
    {
      "cell_type": "code",
      "source": [
        "# Import PyMySQL library\n",
        "import pymysql as sql\n",
        "# the following information added from https://onecompiler.com/studio/mysql\n",
        "# Establish a connection to the MySQL database\n",
        "# Replace the host, user, password, db, and port with your own MySQL connection details\n",
        "connect = sql.connect(\n",
        "    host='ocdb.app',\n",
        "    user='user_42bqvnf2k',\n",
        "    password='p42bqvnf2k',\n",
        "    db='db_42bqvnf2k',\n",
        "    port=5051\n",
        ")\n",
        "\n",
        "# Create a cursor object to execute SQL queries\n",
        "cur = connect.cursor()\n",
        "\n",
        "# Example SQL queries\n",
        "empl = 'SELECT * FROM employees'  # Select all columns from the employees table\n",
        "names = 'SELECT first_name FROM employees'  # Select only the first_name column from the employees table\n",
        "male = 'SELECT * FROM employees WHERE '  # Incomplete query, needs a condition\n",
        "\n",
        "# Execute the SQL query to select first names from the employees table\n",
        "cur.execute(names)\n",
        "\n",
        "# Fetch all the results from the executed query\n",
        "output = cur.fetchall()\n",
        "\n",
        "# Print the output\n",
        "for i in output:\n",
        "    print(i)\n",
        "\n",
        "# Close the connection (uncomment if you're not using the connection further)\n",
        "# connect.close()"
      ],
      "metadata": {
        "colab": {
          "base_uri": "https://localhost:8080/"
        },
        "id": "6YMaDKD42OlE",
        "outputId": "b9676cf6-320e-44cb-eb5c-cd9843d3bd27"
      },
      "execution_count": null,
      "outputs": [
        {
          "output_type": "stream",
          "name": "stdout",
          "text": [
            "('John',)\n",
            "('Jane',)\n",
            "('Robert',)\n",
            "('Amanda',)\n",
            "('Michael',)\n",
            "('Sara',)\n",
            "('Daniel',)\n",
            "('Megan',)\n",
            "('Christopher',)\n",
            "('Olivia',)\n",
            "('Elena',)\n",
            "('Ahmed',)\n",
            "('Maria',)\n",
            "('Tariq',)\n",
            "('Sofia',)\n",
            "('Jamal',)\n",
            "('Isabella',)\n",
            "('Naveed',)\n",
            "('Aisha',)\n",
            "('Marcus',)\n"
          ]
        }
      ]
    },
    {
      "cell_type": "code",
      "source": [
        "# conect = sql.connect(\n",
        "#     host = 'ocdb.app',\n",
        "#     user = 'user_42bqvnf2k',\n",
        "#     password= 'p42bqvnf2k',\n",
        "#     db = 'db_42bqvnf2k',\n",
        "#     port= 5051\n",
        "# )\n",
        "# Create a cursor object to execute SQL queries\n",
        "cursorObject = connect.cursor()\n",
        "\n",
        "# Create a new table named 'Result1'\n",
        "studentRecord = \"\"\"\n",
        "CREATE TABLE Result1(\n",
        "  NAME VARCHAR(20) NOT NULL,\n",
        "  BRANCH VARCHAR(50),\n",
        "  ROLL INT NOT NULL,\n",
        "  SECTION VARCHAR(5),\n",
        "  AGE INT\n",
        ")\n",
        "\"\"\"\n",
        "\n",
        "# Execute the SQL query to create the new table\n",
        "cursorObject.execute(studentRecord)\n",
        "\n",
        "# Close the connection to the MySQL database\n",
        "connect.close()"
      ],
      "metadata": {
        "id": "8fPAAs_YX7mE"
      },
      "execution_count": null,
      "outputs": []
    },
    {
      "cell_type": "code",
      "source": [
        "# Establish a connection to the MySQL database\n",
        "# Replace the host, user, password, db, and port with your own MySQL connection details\n",
        "connect = sql.connect(\n",
        "    host='ocdb.app',\n",
        "    user='user_42bqvnf2k',\n",
        "    password='p42bqvnf2k',\n",
        "    db='db_42bqvnf2k',\n",
        "    port=5051\n",
        ")\n",
        "\n",
        "# SQL query to insert data into the Result1 table\n",
        "sqlInsert = 'INSERT INTO Result1(NAME, branch, ROLL, SECTION, AGE) VALUES (\"AHMET\", \"COMPUTER SCIENCE\",80, \"MATH\", 21)'\n",
        "\n",
        "# SQL query to update the name in the Result1 table\n",
        "sqlupdate = 'UPDATE Result1 SET NAME=\"Mehmet\" WHERE Name = \"Ahmet\"'\n",
        "\n",
        "# Create a cursor object to execute SQL queries\n",
        "mycursor = connect.cursor()\n",
        "\n",
        "# Execute the SQL query to insert data into the Result1 table\n",
        "mycursor.execute(sqlInsert)\n",
        "\n",
        "# Execute the SQL query to update the name in the Result1 table\n",
        "mycursor.execute(sqlupdate)\n",
        "\n",
        "# Commit the changes to the database\n",
        "connect.commit()\n",
        "\n",
        "# Print the number of rows affected by the update\n",
        "print(mycursor.rowcount, \"details inserted\")\n",
        "\n",
        "# Close the connection to the MySQL database\n",
        "# connect.close()\n"
      ],
      "metadata": {
        "colab": {
          "base_uri": "https://localhost:8080/"
        },
        "id": "OS8CjYsTaiRa",
        "outputId": "d243eecf-f664-4b69-a72b-1bb796ea67a3"
      },
      "execution_count": null,
      "outputs": [
        {
          "output_type": "stream",
          "name": "stdout",
          "text": [
            "1 details inserted\n"
          ]
        }
      ]
    },
    {
      "cell_type": "code",
      "source": [
        "# for more information https://dev.mysql.com/doc/connector-python/en/connector-python-examples.html\n",
        "#https://pymysql.readthedocs.io/en/latest/index.html"
      ],
      "metadata": {
        "id": "WeuoyClipasL"
      },
      "execution_count": null,
      "outputs": []
    }
  ]
}